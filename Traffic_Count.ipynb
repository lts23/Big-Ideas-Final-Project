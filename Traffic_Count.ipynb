{
 "cells": [
  {
   "cell_type": "markdown",
   "metadata": {},
   "source": [
    "## The general idea for my statistic is that the best neighborhood will have the least amount of traffic."
   ]
  },
  {
   "cell_type": "code",
   "execution_count": 145,
   "metadata": {},
   "outputs": [],
   "source": [
    "# load pandas\n",
    "import pandas as pd\n",
    "from matplotlib import pyplot as plt\n",
    "\n",
    "#open csv file\n",
    "traffic_count_csv = pd.read_csv(\"traffic_count.csv\", sep=\",\")\n",
    "traffic_count_csv\n",
    "#grab only specific columns I need\n",
    "traffic_count = traffic_count_csv[['device_id','average_daily_car_traffic','neighborhood','count_end_date']]\n",
    "#traffic_count\n",
    "\n"
   ]
  },
  {
   "cell_type": "markdown",
   "metadata": {},
   "source": [
    "## Performing data cleaning on my dataset. Removing all NULL characters."
   ]
  },
  {
   "cell_type": "code",
   "execution_count": 146,
   "metadata": {},
   "outputs": [
    {
     "name": "stderr",
     "output_type": "stream",
     "text": [
      "/opt/tljh/user/lib/python3.6/site-packages/ipykernel_launcher.py:2: SettingWithCopyWarning: \n",
      "A value is trying to be set on a copy of a slice from a DataFrame\n",
      "\n",
      "See the caveats in the documentation: http://pandas.pydata.org/pandas-docs/stable/user_guide/indexing.html#returning-a-view-versus-a-copy\n",
      "  \n"
     ]
    },
    {
     "data": {
      "text/html": [
       "<div>\n",
       "<style scoped>\n",
       "    .dataframe tbody tr th:only-of-type {\n",
       "        vertical-align: middle;\n",
       "    }\n",
       "\n",
       "    .dataframe tbody tr th {\n",
       "        vertical-align: top;\n",
       "    }\n",
       "\n",
       "    .dataframe thead th {\n",
       "        text-align: right;\n",
       "    }\n",
       "</style>\n",
       "<table border=\"1\" class=\"dataframe\">\n",
       "  <thead>\n",
       "    <tr style=\"text-align: right;\">\n",
       "      <th></th>\n",
       "      <th>device_id</th>\n",
       "      <th>average_daily_car_traffic</th>\n",
       "      <th>neighborhood</th>\n",
       "      <th>count_end_date</th>\n",
       "    </tr>\n",
       "  </thead>\n",
       "  <tbody>\n",
       "    <tr>\n",
       "      <th>52</th>\n",
       "      <td>37</td>\n",
       "      <td>976.0</td>\n",
       "      <td>Greenfield</td>\n",
       "      <td>2018-06-21</td>\n",
       "    </tr>\n",
       "    <tr>\n",
       "      <th>109</th>\n",
       "      <td>39</td>\n",
       "      <td>5327.0</td>\n",
       "      <td>Highland Park</td>\n",
       "      <td>2018-07-11</td>\n",
       "    </tr>\n",
       "    <tr>\n",
       "      <th>17</th>\n",
       "      <td>36</td>\n",
       "      <td>7688.0</td>\n",
       "      <td>Highland Park</td>\n",
       "      <td>2018-07-12</td>\n",
       "    </tr>\n",
       "    <tr>\n",
       "      <th>3</th>\n",
       "      <td>9</td>\n",
       "      <td>2741.0</td>\n",
       "      <td>Squirrel Hill South</td>\n",
       "      <td>2018-08-01</td>\n",
       "    </tr>\n",
       "    <tr>\n",
       "      <th>10</th>\n",
       "      <td>8</td>\n",
       "      <td>5592.0</td>\n",
       "      <td>Squirrel Hill South</td>\n",
       "      <td>2018-08-01</td>\n",
       "    </tr>\n",
       "    <tr>\n",
       "      <th>...</th>\n",
       "      <td>...</td>\n",
       "      <td>...</td>\n",
       "      <td>...</td>\n",
       "      <td>...</td>\n",
       "    </tr>\n",
       "    <tr>\n",
       "      <th>224</th>\n",
       "      <td>242</td>\n",
       "      <td>3819.0</td>\n",
       "      <td>Homewood South</td>\n",
       "      <td>2020-02-22</td>\n",
       "    </tr>\n",
       "    <tr>\n",
       "      <th>226</th>\n",
       "      <td>244</td>\n",
       "      <td>2651.0</td>\n",
       "      <td>Point Breeze North</td>\n",
       "      <td>2020-02-22</td>\n",
       "    </tr>\n",
       "    <tr>\n",
       "      <th>222</th>\n",
       "      <td>240</td>\n",
       "      <td>5357.0</td>\n",
       "      <td>Homewood North</td>\n",
       "      <td>2020-02-22</td>\n",
       "    </tr>\n",
       "    <tr>\n",
       "      <th>223</th>\n",
       "      <td>241</td>\n",
       "      <td>6446.0</td>\n",
       "      <td>Homewood South</td>\n",
       "      <td>2020-02-22</td>\n",
       "    </tr>\n",
       "    <tr>\n",
       "      <th>227</th>\n",
       "      <td>245</td>\n",
       "      <td>7277.0</td>\n",
       "      <td>Point Breeze North</td>\n",
       "      <td>2020-02-22</td>\n",
       "    </tr>\n",
       "  </tbody>\n",
       "</table>\n",
       "<p>148 rows × 4 columns</p>\n",
       "</div>"
      ],
      "text/plain": [
       "     device_id  average_daily_car_traffic         neighborhood count_end_date\n",
       "52          37                      976.0           Greenfield     2018-06-21\n",
       "109         39                     5327.0        Highland Park     2018-07-11\n",
       "17          36                     7688.0        Highland Park     2018-07-12\n",
       "3            9                     2741.0  Squirrel Hill South     2018-08-01\n",
       "10           8                     5592.0  Squirrel Hill South     2018-08-01\n",
       "..         ...                        ...                  ...            ...\n",
       "224        242                     3819.0       Homewood South     2020-02-22\n",
       "226        244                     2651.0   Point Breeze North     2020-02-22\n",
       "222        240                     5357.0       Homewood North     2020-02-22\n",
       "223        241                     6446.0       Homewood South     2020-02-22\n",
       "227        245                     7277.0   Point Breeze North     2020-02-22\n",
       "\n",
       "[148 rows x 4 columns]"
      ]
     },
     "execution_count": 146,
     "metadata": {},
     "output_type": "execute_result"
    }
   ],
   "source": [
    "#performing cleaning operations on dataset\n",
    "traffic_count.dropna(inplace=True)\n",
    "\n",
    "#traffic_count.dropna(axis='index', how='any', subset=['average_daily_car_traffic'])\n",
    "#traffic_count.dropna()\n",
    "\n",
    "traffic_count.sort_values(by='count_end_date', ascending=True)\n"
   ]
  },
  {
   "cell_type": "code",
   "execution_count": 147,
   "metadata": {},
   "outputs": [],
   "source": [
    "#read columns into dictionary\n",
    "traffic_count_dict = {}\n",
    "#length = traffic_count.count()[0]\n",
    "length = len(traffic_count.index)\n",
    "#print(length)\n",
    "counter = 0\n",
    "while not counter >= length:\n",
    "    row = traffic_count.iloc[counter]\n",
    "    \n",
    "    \"\"\"\n",
    "    To clarify on a few points here, I am doing this in a very backwards way, or at least it feels like I am.\n",
    "    Anyway, the \"row\" variable is being used as a sort of \"pointer\" to grab data from each column using a 0, 1, 2, etc.\n",
    "    In this specific instance, I only have two columns. 0 being average_daily_car_traffic, and 1 being neighborhood. This is how\n",
    "    I am grabbing the data from each column for every row.\n",
    "    This will only save the most RECENT data, since I am sorting the dataset before I am performing this by \"count_end_date\" ascending.\n",
    "    \"\"\"\n",
    "    traffic_count_dict[row[0]] = row[1], row[2]\n",
    "    \n",
    "    #increasing counter by one\n",
    "    counter+=1\n",
    "        "
   ]
  },
  {
   "cell_type": "markdown",
   "metadata": {},
   "source": [
    "## Show all information that has been sorted into dictionary."
   ]
  },
  {
   "cell_type": "code",
   "execution_count": null,
   "metadata": {},
   "outputs": [],
   "source": [
    "for key,value in traffic_count_dict.items():\n",
    "    print(str(key) + \": \" + str(value))"
   ]
  },
  {
   "cell_type": "markdown",
   "metadata": {},
   "source": [
    "## Top 5-10 light traffic areas"
   ]
  },
  {
   "cell_type": "code",
   "execution_count": 148,
   "metadata": {},
   "outputs": [
    {
     "name": "stderr",
     "output_type": "stream",
     "text": [
      "/opt/tljh/user/lib/python3.6/site-packages/ipykernel_launcher.py:6: SettingWithCopyWarning: \n",
      "A value is trying to be set on a copy of a slice from a DataFrame\n",
      "\n",
      "See the caveats in the documentation: http://pandas.pydata.org/pandas-docs/stable/user_guide/indexing.html#returning-a-view-versus-a-copy\n",
      "  \n"
     ]
    }
   ],
   "source": [
    "traffic_count_series = pd.Series(traffic_count_dict)\n",
    "\n",
    "traffic_count_series.sort_values(ascending=True)[:10]\n",
    "\n",
    "\n",
    "traffic_count.sort_values(['average_daily_car_traffic', 'count_end_date'], ascending=[True, False], inplace=True)"
   ]
  },
  {
   "cell_type": "markdown",
   "metadata": {},
   "source": [
    "## Graph of data in bar graph style."
   ]
  },
  {
   "cell_type": "code",
   "execution_count": 149,
   "metadata": {},
   "outputs": [
    {
     "data": {
      "image/png": "[encoded data removed]",
      "text/plain": [
       "<Figure size 432x288 with 1 Axes>"
      ]
     },
     "metadata": {
      "needs_background": "light"
     },
     "output_type": "display_data"
    }
   ],
   "source": [
    "plt.bar(traffic_count['neighborhood'][:10], traffic_count['average_daily_car_traffic'][:10])\n",
    "plt.xlabel('Neighborhoods')\n",
    "plt.ylabel('Amount of Traffic')\n",
    "plt.title('Amount of Traffic per Neighborhood')\n",
    "plt.xticks(rotation=75)\n",
    "\n",
    "plt.show()"
   ]
  },
  {
   "cell_type": "code",
   "execution_count": null,
   "metadata": {},
   "outputs": [],
   "source": []
  }
 ],
 "metadata": {
  "kernelspec": {
   "display_name": "Python 3",
   "language": "python",
   "name": "python3"
  },
  "language_info": {
   "codemirror_mode": {
    "name": "ipython",
    "version": 3
   },
   "file_extension": ".py",
   "mimetype": "text/x-python",
   "name": "python",
   "nbconvert_exporter": "python",
   "pygments_lexer": "ipython3",
   "version": "3.6.7"
  }
 },
 "nbformat": 4,
 "nbformat_minor": 4
}
