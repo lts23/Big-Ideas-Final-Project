{
 "cells": [
  {
   "cell_type": "markdown",
   "metadata": {},
   "source": [
    "## The general idea for my statistic is that the best neighborhood will have the least amount of traffic."
   ]
  },
  {
   "cell_type": "markdown",
   "metadata": {},
   "source": [
    "# Traffic Metric"
   ]
  },
  {
   "cell_type": "code",
   "execution_count": 2,
   "metadata": {},
   "outputs": [],
   "source": [
    "# load pandas\n",
    "import pandas as pd\n",
    "from matplotlib import pyplot as plt\n",
    "\n",
    "#open csv file\n",
    "traffic_count_csv = pd.read_csv(\"traffic_count.csv\", sep=\",\")\n",
    "traffic_count_csv\n",
    "#grab only specific columns I need\n",
    "traffic_count = traffic_count_csv[['device_id','average_daily_car_traffic','neighborhood','count_end_date']]\n",
    "#traffic_count -- Removed. Only needed for testing.\n",
    "\n"
   ]
  },
  {
   "cell_type": "markdown",
   "metadata": {},
   "source": [
    "## Performing data cleaning on my dataset. Removing all NULL characters."
   ]
  },
  {
   "cell_type": "code",
   "execution_count": 3,
   "metadata": {},
   "outputs": [
    {
     "name": "stderr",
     "output_type": "stream",
     "text": [
      "/opt/tljh/user/lib/python3.6/site-packages/ipykernel_launcher.py:2: SettingWithCopyWarning: \n",
      "A value is trying to be set on a copy of a slice from a DataFrame\n",
      "\n",
      "See the caveats in the documentation: http://pandas.pydata.org/pandas-docs/stable/user_guide/indexing.html#returning-a-view-versus-a-copy\n",
      "  \n"
     ]
    },
    {
     "data": {
      "text/html": [
       "<div>\n",
       "<style scoped>\n",
       "    .dataframe tbody tr th:only-of-type {\n",
       "        vertical-align: middle;\n",
       "    }\n",
       "\n",
       "    .dataframe tbody tr th {\n",
       "        vertical-align: top;\n",
       "    }\n",
       "\n",
       "    .dataframe thead th {\n",
       "        text-align: right;\n",
       "    }\n",
       "</style>\n",
       "<table border=\"1\" class=\"dataframe\">\n",
       "  <thead>\n",
       "    <tr style=\"text-align: right;\">\n",
       "      <th></th>\n",
       "      <th>device_id</th>\n",
       "      <th>average_daily_car_traffic</th>\n",
       "      <th>neighborhood</th>\n",
       "      <th>count_end_date</th>\n",
       "    </tr>\n",
       "  </thead>\n",
       "  <tbody>\n",
       "    <tr>\n",
       "      <th>52</th>\n",
       "      <td>37</td>\n",
       "      <td>976.0</td>\n",
       "      <td>Greenfield</td>\n",
       "      <td>2018-06-21</td>\n",
       "    </tr>\n",
       "    <tr>\n",
       "      <th>109</th>\n",
       "      <td>39</td>\n",
       "      <td>5327.0</td>\n",
       "      <td>Highland Park</td>\n",
       "      <td>2018-07-11</td>\n",
       "    </tr>\n",
       "    <tr>\n",
       "      <th>17</th>\n",
       "      <td>36</td>\n",
       "      <td>7688.0</td>\n",
       "      <td>Highland Park</td>\n",
       "      <td>2018-07-12</td>\n",
       "    </tr>\n",
       "    <tr>\n",
       "      <th>3</th>\n",
       "      <td>9</td>\n",
       "      <td>2741.0</td>\n",
       "      <td>Squirrel Hill South</td>\n",
       "      <td>2018-08-01</td>\n",
       "    </tr>\n",
       "    <tr>\n",
       "      <th>10</th>\n",
       "      <td>8</td>\n",
       "      <td>5592.0</td>\n",
       "      <td>Squirrel Hill South</td>\n",
       "      <td>2018-08-01</td>\n",
       "    </tr>\n",
       "    <tr>\n",
       "      <th>...</th>\n",
       "      <td>...</td>\n",
       "      <td>...</td>\n",
       "      <td>...</td>\n",
       "      <td>...</td>\n",
       "    </tr>\n",
       "    <tr>\n",
       "      <th>224</th>\n",
       "      <td>242</td>\n",
       "      <td>3819.0</td>\n",
       "      <td>Homewood South</td>\n",
       "      <td>2020-02-22</td>\n",
       "    </tr>\n",
       "    <tr>\n",
       "      <th>226</th>\n",
       "      <td>244</td>\n",
       "      <td>2651.0</td>\n",
       "      <td>Point Breeze North</td>\n",
       "      <td>2020-02-22</td>\n",
       "    </tr>\n",
       "    <tr>\n",
       "      <th>222</th>\n",
       "      <td>240</td>\n",
       "      <td>5357.0</td>\n",
       "      <td>Homewood North</td>\n",
       "      <td>2020-02-22</td>\n",
       "    </tr>\n",
       "    <tr>\n",
       "      <th>223</th>\n",
       "      <td>241</td>\n",
       "      <td>6446.0</td>\n",
       "      <td>Homewood South</td>\n",
       "      <td>2020-02-22</td>\n",
       "    </tr>\n",
       "    <tr>\n",
       "      <th>227</th>\n",
       "      <td>245</td>\n",
       "      <td>7277.0</td>\n",
       "      <td>Point Breeze North</td>\n",
       "      <td>2020-02-22</td>\n",
       "    </tr>\n",
       "  </tbody>\n",
       "</table>\n",
       "<p>148 rows × 4 columns</p>\n",
       "</div>"
      ],
      "text/plain": [
       "     device_id  average_daily_car_traffic         neighborhood count_end_date\n",
       "52          37                      976.0           Greenfield     2018-06-21\n",
       "109         39                     5327.0        Highland Park     2018-07-11\n",
       "17          36                     7688.0        Highland Park     2018-07-12\n",
       "3            9                     2741.0  Squirrel Hill South     2018-08-01\n",
       "10           8                     5592.0  Squirrel Hill South     2018-08-01\n",
       "..         ...                        ...                  ...            ...\n",
       "224        242                     3819.0       Homewood South     2020-02-22\n",
       "226        244                     2651.0   Point Breeze North     2020-02-22\n",
       "222        240                     5357.0       Homewood North     2020-02-22\n",
       "223        241                     6446.0       Homewood South     2020-02-22\n",
       "227        245                     7277.0   Point Breeze North     2020-02-22\n",
       "\n",
       "[148 rows x 4 columns]"
      ]
     },
     "execution_count": 3,
     "metadata": {},
     "output_type": "execute_result"
    }
   ],
   "source": [
    "#performing cleaning operations on dataset\n",
    "traffic_count.dropna(inplace=True)\n",
    "\n",
    "#traffic_count.dropna(axis='index', how='any', subset=['average_daily_car_traffic']) -- Removed. Only needed for testing.\n",
    "#traffic_count.dropna() -- Removed. Only needed for testing.\n",
    "\n",
    "traffic_count.sort_values(by='count_end_date', ascending=True)\n"
   ]
  },
  {
   "cell_type": "markdown",
   "metadata": {},
   "source": [
    "## Reading dataset information into a dictionary."
   ]
  },
  {
   "cell_type": "code",
   "execution_count": 4,
   "metadata": {},
   "outputs": [],
   "source": [
    "#read columns into dictionary\n",
    "traffic_count_dict = {}\n",
    "#length = traffic_count.count()[0]\n",
    "length = len(traffic_count.index)\n",
    "#print(length)\n",
    "counter = 0\n",
    "while not counter >= length:\n",
    "    row = traffic_count.iloc[counter]\n",
    "    \n",
    "    \"\"\"\n",
    "    To clarify on a few points here, I am doing this in a very backwards way, or at least it feels like I am.\n",
    "    Anyway, the \"row\" variable is being used as a sort of \"pointer\" to grab data from each column using a 0, 1, 2, etc.\n",
    "    In this specific instance, I only have two columns. 0 being average_daily_car_traffic, and 1 being neighborhood. This is how\n",
    "    I am grabbing the data from each column for every row.\n",
    "    This will only save the most RECENT data, since I am sorting the dataset before I am performing this by \"count_end_date\" ascending.\n",
    "    \"\"\"\n",
    "    traffic_count_dict[row[0]] = row[1], row[2]\n",
    "    \n",
    "    #increasing counter by one\n",
    "    counter+=1\n",
    "        "
   ]
  },
  {
   "cell_type": "markdown",
   "metadata": {},
   "source": [
    "## Show all information that has been sorted into dictionary."
   ]
  },
  {
   "cell_type": "code",
   "execution_count": 166,
   "metadata": {
    "collapsed": true,
    "jupyter": {
     "outputs_hidden": true
    }
   },
   "outputs": [
    {
     "name": "stdout",
     "output_type": "stream",
     "text": [
      "85: (4949.0, 'Polish Hill')\n",
      "9: (2741.0, 'Squirrel Hill South')\n",
      "76: (1046.0, 'Central Northside')\n",
      "87: (3015.0, 'Polish Hill')\n",
      "8: (5592.0, 'Squirrel Hill South')\n",
      "65: (1455.0, 'Bluff')\n",
      "176: (11500.0, 'Crafton Heights')\n",
      "72: (6793.0, 'Shadyside')\n",
      "36: (7688.0, 'Highland Park')\n",
      "118: (10350.0, 'North Shore')\n",
      "50: (9435.0, 'East Liberty')\n",
      "23: (3860.0, 'Mount Washington')\n",
      "173: (9709.0, 'Brookline')\n",
      "202: (613.0, 'Shadyside')\n",
      "179: (1163.0, 'East Liberty')\n",
      "169: (7686.0, 'Mount Washington')\n",
      "133: (3239.0, 'Squirrel Hill North')\n",
      "73: (1120.0, 'Bloomfield')\n",
      "26: (9546.0, 'Squirrel Hill South')\n",
      "114: (6984.0, 'Bloomfield')\n",
      "61: (8512.0, 'Larimer')\n",
      "106: (4448.0, 'Friendship')\n",
      "116: (3150.0, 'Squirrel Hill North')\n",
      "92: (12335.0, 'Point Breeze')\n",
      "192: (16729.0, 'Regent Square')\n",
      "115: (8911.0, 'East Liberty')\n",
      "3: (8407.0, 'East Liberty')\n",
      "132: (1265.0, 'Point Breeze')\n",
      "55: (1786.0, 'Central Lawrenceville')\n",
      "196: (527.0, 'Knoxville')\n",
      "24: (3776.0, 'Central Oakland')\n",
      "31: (6443.0, 'Strip District')\n",
      "111: (6984.0, 'Bloomfield')\n",
      "37: (976.0, 'Greenfield')\n",
      "12: (1080.0, 'Highland Park')\n",
      "60: (1218.0, 'Larimer')\n",
      "62: (728.0, 'Larimer')\n",
      "10: (2931.0, 'Windgap')\n",
      "45: (2046.0, 'Beechview')\n",
      "74: (7111.0, 'Bloomfield')\n",
      "33: (1530.0, 'Upper Hill')\n",
      "134: (781.0, 'Squirrel Hill North')\n",
      "52: (5490.0, 'Squirrel Hill South')\n",
      "218: (4016.0, 'Stanton Heights')\n",
      "217: (6090.0, 'Stanton Heights')\n",
      "75: (9405.0, 'Manchester')\n",
      "171: (8243.0, 'South Side Slopes')\n",
      "99: (927.0, 'Squirrel Hill North')\n",
      "184: (763.0, 'Beechview')\n",
      "208: (317.0, 'Highland Park')\n",
      "43: (768.0, 'Polish Hill')\n",
      "13: (904.0, 'Highland Park')\n",
      "182: (1410.0, 'Perry North')\n",
      "206: (2450.0, 'Squirrel Hill South')\n",
      "200: (416.0, 'Shadyside')\n",
      "57: (5151.0, 'Larimer')\n",
      "220: (4550.0, 'North Oakland')\n",
      "34: (13788.0, 'East Hills')\n",
      "167: (5831.0, 'Duquesne Heights')\n",
      "185: (1468.0, 'Brookline')\n",
      "51: (5787.0, 'East Liberty')\n",
      "44: (4301.0, 'Mount Washington')\n",
      "109: (3304.0, 'Sheraden')\n",
      "28: (1802.0, 'Morningside')\n",
      "32: (1049.0, 'Polish Hill')\n",
      "112: (7579.0, 'North Oakland')\n",
      "69: (7621.0, 'Squirrel Hill North')\n",
      "5: (4015.0, 'Mount Washington')\n",
      "16: (3580.0, 'North Oakland')\n",
      "39: (5327.0, 'Highland Park')\n",
      "170: (9075.0, 'Mount Washington')\n",
      "194: (5015.0, 'Squirrel Hill South')\n",
      "90: (2305.0, 'Central Business District')\n",
      "209: (995.0, 'Highland Park')\n",
      "180: (317.0, 'East Liberty')\n",
      "147: (2436.0, 'St. Clair')\n",
      "181: (6943.0, 'Perry South')\n",
      "67: (1363.0, 'Bluff')\n",
      "40: (338.0, 'Elliott')\n",
      "135: (4354.0, 'Shadyside')\n",
      "183: (3302.0, 'Perry North')\n",
      "178: (483.0, 'East Liberty')\n",
      "59: (3827.0, 'Larimer')\n",
      "25: (382.0, 'Central Oakland')\n",
      "199: (9600.0, 'Westwood')\n",
      "78: (2386.0, 'Allegheny Center')\n",
      "105: (1270.0, 'Bloomfield')\n",
      "174: (3427.0, 'Elliott')\n",
      "207: (155.0, 'Highland Park')\n",
      "4: (7619.0, 'Mount Washington')\n",
      "79: (1924.0, 'East Allegheny')\n",
      "56: (936.0, 'Central Lawrenceville')\n",
      "177: (541.0, 'Squirrel Hill North')\n",
      "2: (867.0, 'Bloomfield')\n",
      "198: (5800.0, 'Westwood')\n",
      "187: (719.0, 'Squirrel Hill South')\n",
      "70: (5859.0, 'Shadyside')\n",
      "204: (1390.0, 'Squirrel Hill North')\n",
      "175: (131.0, 'Windgap')\n",
      "188: (1183.0, 'Squirrel Hill South')\n",
      "1: (6513.0, 'Point Breeze')\n",
      "48: (571.0, 'Squirrel Hill South')\n",
      "168: (4921.0, 'Mount Washington')\n",
      "98: (1625.0, 'Brookline')\n",
      "110: (3876.0, 'Sheraden')\n",
      "197: (777.0, 'Overbrook')\n",
      "121: (929.0, 'Point Breeze')\n",
      "86: (5663.0, 'Polish Hill')\n",
      "186: (4254.0, 'East Liberty')\n",
      "58: (6747.0, 'Larimer')\n",
      "91: (927.0, 'Upper Hill')\n",
      "191: (1107.0, 'Point Breeze')\n",
      "63: (2547.0, 'Bluff')\n",
      "77: (23.0, 'Central Northside')\n",
      "27: (2475.0, 'Morningside')\n",
      "107: (1231.0, 'Morningside')\n",
      "136: (7700.0, 'East Liberty')\n",
      "193: (5262.0, 'Squirrel Hill South')\n",
      "53: (5850.0, 'Central Lawrenceville')\n",
      "203: (766.0, 'Shadyside')\n",
      "54: (573.0, 'Central Lawrenceville')\n",
      "219: (2150.0, 'Stanton Heights')\n",
      "113: (15000.0, 'Bloomfield')\n",
      "205: (1316.0, 'Squirrel Hill South')\n",
      "223: (450.0, 'Manchester')\n",
      "226: (877.0, 'Central Northside')\n",
      "221: (477.0, 'Allegheny West')\n",
      "224: (384.0, 'Manchester')\n",
      "225: (1043.0, 'Marshall-Shadeland')\n",
      "222: (1105.0, 'Manchester')\n",
      "227: (334.0, 'Lower Lawrenceville')\n",
      "228: (3138.0, 'Lower Lawrenceville')\n",
      "229: (5921.0, 'Strip District')\n",
      "230: (1036.0, 'Squirrel Hill South')\n",
      "231: (463.0, 'Squirrel Hill South')\n",
      "232: (1328.0, 'Perry North')\n",
      "233: (223.0, 'Squirrel Hill South')\n",
      "234: (1446.0, 'Beechview')\n",
      "236: (1231.0, 'South Side Slopes')\n",
      "237: (2224.0, 'Arlington')\n",
      "238: (2347.0, 'Arlington')\n",
      "239: (868.0, 'Carrick')\n",
      "240: (5357.0, 'Homewood North')\n",
      "241: (6446.0, 'Homewood South')\n",
      "242: (3819.0, 'Homewood South')\n",
      "243: (2253.0, 'Homewood South')\n",
      "244: (2651.0, 'Point Breeze North')\n",
      "245: (7277.0, 'Point Breeze North')\n"
     ]
    }
   ],
   "source": [
    "#for key,value in traffic_count_dict.items(): -- Removed. Only needed for testing.\n",
    "#    print(str(key) + \": \" + str(value)) -- Removed. Only needed for testing."
   ]
  },
  {
   "cell_type": "markdown",
   "metadata": {},
   "source": [
    "## Top 5-10 light traffic areas\n",
    "### This is done by using the previously populated dataset dictionary and throwing it into a series. I later decided this was obsolete and simply used the information straight from my dataset. This can be seen in the last line of this code snippet."
   ]
  },
  {
   "cell_type": "code",
   "execution_count": 5,
   "metadata": {},
   "outputs": [
    {
     "name": "stderr",
     "output_type": "stream",
     "text": [
      "/opt/tljh/user/lib/python3.6/site-packages/ipykernel_launcher.py:6: SettingWithCopyWarning: \n",
      "A value is trying to be set on a copy of a slice from a DataFrame\n",
      "\n",
      "See the caveats in the documentation: http://pandas.pydata.org/pandas-docs/stable/user_guide/indexing.html#returning-a-view-versus-a-copy\n",
      "  \n"
     ]
    }
   ],
   "source": [
    "traffic_count_series = pd.Series(traffic_count_dict)\n",
    "\n",
    "traffic_count_series.sort_values(ascending=True)[:10]\n",
    "\n",
    "\n",
    "traffic_count.sort_values(['average_daily_car_traffic', 'count_end_date'], ascending=[True, False], inplace=True)"
   ]
  },
  {
   "cell_type": "markdown",
   "metadata": {},
   "source": [
    "## Graph of data in bar graph style.\n",
    "### I used an interesting method of plotting the graph, but it works."
   ]
  },
  {
   "cell_type": "code",
   "execution_count": 6,
   "metadata": {},
   "outputs": [
    {
     "data": {
      "image/png": "[encoded data removed]",
      "text/plain": [
       "<Figure size 432x288 with 1 Axes>"
      ]
     },
     "metadata": {
      "needs_background": "light"
     },
     "output_type": "display_data"
    }
   ],
   "source": [
    "plt.bar(traffic_count['neighborhood'][:11], traffic_count['average_daily_car_traffic'][:11])\n",
    "plt.xlabel('Neighborhoods')\n",
    "plt.ylabel('Amount of Traffic')\n",
    "plt.title('Amount of Traffic per Neighborhood')\n",
    "plt.xticks(rotation=75)\n",
    "\n",
    "plt.show()"
   ]
  },
  {
   "cell_type": "markdown",
   "metadata": {},
   "source": [
    "## Grabbing relevant data into weighted dictionary.\n",
    "### This is again done in an interesting way. I spent a lot of time on this code snippet, but it works well enough for my needs.\n",
    "### I go through each neighborhood in the top 10, and assign it to the dictionary. If the dictionary already holds that neighborhood name, it will add the values together."
   ]
  },
  {
   "cell_type": "code",
   "execution_count": 103,
   "metadata": {},
   "outputs": [
    {
     "data": {
      "text/plain": [
       "{'Central Northside': 0.9583333333333334,\n",
       " 'Windgap': 5.458333333333333,\n",
       " 'Highland Park': 19.666666666666668,\n",
       " 'Squirrel Hill South': 9.291666666666666,\n",
       " 'East Liberty': 13.208333333333334,\n",
       " 'Lower Lawrenceville': 13.916666666666666,\n",
       " 'Elliott': 14.083333333333334,\n",
       " 'Central Oakland': 15.916666666666666,\n",
       " 'Manchester': 16.0}"
      ]
     },
     "execution_count": 103,
     "metadata": {},
     "output_type": "execute_result"
    }
   ],
   "source": [
    "# getting weights for metrics\n",
    "traffic_count_weight_dict = {}\n",
    "#counter = 10 -- Removed. Only needed for testing.\n",
    "#key_counter = 2 -- Removed. Only needed for testing.\n",
    "for neighborhood, traffic in zip(traffic_count.sort_values(['average_daily_car_traffic'], ascending=True)['neighborhood'][:10], traffic_count.sort_values(['average_daily_car_traffic'], ascending=True)['average_daily_car_traffic'][:10]):\n",
    "    #print(str(neighborhood) + \": \" + str((float(traffic)/16))) -- Removed. Only needed for testing.\n",
    "    #performing weight conversion\n",
    "    weighted_traffic = (float(traffic)/24)\n",
    "    #if statement to check if neighborhood is already in list. if so, then populate with neighborhood name + key_counter\n",
    "    if neighborhood in traffic_count_weight_dict:\n",
    "        traffic_count_weight_dict[(neighborhood)] += weighted_traffic\n",
    "        #key_counter += 1 -- Removed. Only needed for testing.\n",
    "    else:\n",
    "        traffic_count_weight_dict[neighborhood] = weighted_traffic\n",
    "\n",
    "#divide amount of traffic by 16 -- changed to 24 as the numbers are closer this way.\n",
    "\n",
    "traffic_count_weight_dict"
   ]
  },
  {
   "cell_type": "markdown",
   "metadata": {},
   "source": [
    "# Miles Of Major Roads Metric"
   ]
  },
  {
   "cell_type": "code",
   "execution_count": 46,
   "metadata": {},
   "outputs": [],
   "source": [
    "import pandas as pd\n",
    "import numpy as np\n",
    "\n",
    "import ssl\n",
    "\n",
    "ssl._create_default_https_context = ssl._create_unverified_context"
   ]
  },
  {
   "cell_type": "code",
   "execution_count": 47,
   "metadata": {},
   "outputs": [],
   "source": [
    "pgh_roads = pd.read_csv(\"https://data.wprdc.org/dataset/40188e1c-6d2e-4f20-9391-607bd3054949/resource/5d61b60b-bd25-4c33-8420-e31a9135ec6e/download/transportation.csv\",\n",
    "                             parse_dates=True)"
   ]
  },
  {
   "cell_type": "code",
   "execution_count": 48,
   "metadata": {},
   "outputs": [],
   "source": [
    "major_roads = pgh_roads[['Neighborhood', 'Miles of Major Roads']]\n",
    "\n",
    "\n",
    "\n",
    "#major_roads = pgh_roads.groupby(['Neighborhood', 'Miles of Major Roads']).count()"
   ]
  },
  {
   "cell_type": "code",
   "execution_count": 49,
   "metadata": {},
   "outputs": [
    {
     "name": "stderr",
     "output_type": "stream",
     "text": [
      "/opt/tljh/user/lib/python3.6/site-packages/ipykernel_launcher.py:4: SettingWithCopyWarning: \n",
      "A value is trying to be set on a copy of a slice from a DataFrame\n",
      "\n",
      "See the caveats in the documentation: http://pandas.pydata.org/pandas-docs/stable/user_guide/indexing.html#returning-a-view-versus-a-copy\n",
      "  after removing the cwd from sys.path.\n"
     ]
    },
    {
     "data": {
      "text/html": [
       "<div>\n",
       "<style scoped>\n",
       "    .dataframe tbody tr th:only-of-type {\n",
       "        vertical-align: middle;\n",
       "    }\n",
       "\n",
       "    .dataframe tbody tr th {\n",
       "        vertical-align: top;\n",
       "    }\n",
       "\n",
       "    .dataframe thead th {\n",
       "        text-align: right;\n",
       "    }\n",
       "</style>\n",
       "<table border=\"1\" class=\"dataframe\">\n",
       "  <thead>\n",
       "    <tr style=\"text-align: right;\">\n",
       "      <th></th>\n",
       "      <th>Neighborhood</th>\n",
       "      <th>Miles of Major Roads</th>\n",
       "    </tr>\n",
       "  </thead>\n",
       "  <tbody>\n",
       "    <tr>\n",
       "      <th>16</th>\n",
       "      <td>Central Business District</td>\n",
       "      <td>13.55</td>\n",
       "    </tr>\n",
       "    <tr>\n",
       "      <th>13</th>\n",
       "      <td>Brookline</td>\n",
       "      <td>9.15</td>\n",
       "    </tr>\n",
       "    <tr>\n",
       "      <th>10</th>\n",
       "      <td>Bluff</td>\n",
       "      <td>9.08</td>\n",
       "    </tr>\n",
       "    <tr>\n",
       "      <th>75</th>\n",
       "      <td>Squirrel Hill North</td>\n",
       "      <td>8.19</td>\n",
       "    </tr>\n",
       "    <tr>\n",
       "      <th>69</th>\n",
       "      <td>South Oakland</td>\n",
       "      <td>8.07</td>\n",
       "    </tr>\n",
       "    <tr>\n",
       "      <th>76</th>\n",
       "      <td>Squirrel Hill South</td>\n",
       "      <td>7.99</td>\n",
       "    </tr>\n",
       "    <tr>\n",
       "      <th>25</th>\n",
       "      <td>East Allegheny</td>\n",
       "      <td>7.59</td>\n",
       "    </tr>\n",
       "    <tr>\n",
       "      <th>49</th>\n",
       "      <td>Marshall-Shadeland</td>\n",
       "      <td>7.06</td>\n",
       "    </tr>\n",
       "    <tr>\n",
       "      <th>56</th>\n",
       "      <td>North Shore</td>\n",
       "      <td>6.81</td>\n",
       "    </tr>\n",
       "    <tr>\n",
       "      <th>15</th>\n",
       "      <td>Carrick</td>\n",
       "      <td>6.56</td>\n",
       "    </tr>\n",
       "  </tbody>\n",
       "</table>\n",
       "</div>"
      ],
      "text/plain": [
       "                 Neighborhood  Miles of Major Roads\n",
       "16  Central Business District                 13.55\n",
       "13                  Brookline                  9.15\n",
       "10                      Bluff                  9.08\n",
       "75        Squirrel Hill North                  8.19\n",
       "69              South Oakland                  8.07\n",
       "76        Squirrel Hill South                  7.99\n",
       "25             East Allegheny                  7.59\n",
       "49         Marshall-Shadeland                  7.06\n",
       "56                North Shore                  6.81\n",
       "15                    Carrick                  6.56"
      ]
     },
     "execution_count": 49,
     "metadata": {},
     "output_type": "execute_result"
    }
   ],
   "source": [
    "#major_roads.sort_values([\"Miles of Major Roads\"], ascending=False)[:10]\n",
    "\n",
    "\n",
    "major_roads.sort_values(['Miles of Major Roads'], ascending=False, inplace=True)\n",
    "\n",
    "major_roads[:10]"
   ]
  },
  {
   "cell_type": "code",
   "execution_count": 50,
   "metadata": {},
   "outputs": [
    {
     "name": "stdout",
     "output_type": "stream",
     "text": [
      "The neighborhood that includes the most major roads is the Central Business District.\n"
     ]
    }
   ],
   "source": [
    "print(\"The neighborhood that includes the most major roads is the Central Business District.\")"
   ]
  },
  {
   "cell_type": "markdown",
   "metadata": {},
   "source": [
    "## Grabbing relevant data into weighted dictionary.\n",
    "### I go through each neighborhood in the top 10, and assign it to the dictionary."
   ]
  },
  {
   "cell_type": "code",
   "execution_count": 54,
   "metadata": {},
   "outputs": [
    {
     "data": {
      "text/plain": [
       "{'Central Business District': 13.55,\n",
       " 'Brookline': 9.15,\n",
       " 'Bluff': 9.08,\n",
       " 'Squirrel Hill North': 8.19,\n",
       " 'South Oakland': 8.07,\n",
       " 'Squirrel Hill South': 7.99,\n",
       " 'East Allegheny': 7.59,\n",
       " 'Marshall-Shadeland': 7.06,\n",
       " 'North Shore': 6.81,\n",
       " 'Carrick': 6.56}"
      ]
     },
     "execution_count": 54,
     "metadata": {},
     "output_type": "execute_result"
    }
   ],
   "source": [
    "# getting weights for metrics\n",
    "major_roads_weight_dict = {}\n",
    "#counter = 10 -- Removed. Only needed for testing.\n",
    "\n",
    "for neighborhood, miles in zip(major_roads['Neighborhood'][:10], major_roads['Miles of Major Roads'][:10]):\n",
    "    #print(str(neighborhood) + \": \" + str(miles)) -- Removed. Only needed for testing.\n",
    "    major_roads_weight_dict[neighborhood] = miles\n",
    "    #counter -= 1 -- Removed. Only needed for testing.\n",
    "\n",
    "major_roads_weight_dict"
   ]
  },
  {
   "cell_type": "markdown",
   "metadata": {},
   "source": [
    "# Bridges Per Neighborhood Metric"
   ]
  },
  {
   "cell_type": "markdown",
   "metadata": {},
   "source": [
    "First, lets import the pandas and the pyplot for matplotlib. Then, the data set. It is a csv so we can just use pd.read_csv to read it in.Then, we will then make a dictionary for the data set. This will help us later as we go to read in the data. "
   ]
  },
  {
   "cell_type": "code",
   "execution_count": 61,
   "metadata": {},
   "outputs": [],
   "source": [
    "import pandas as pd\n",
    "from matplotlib import pyplot as plt\n",
    "\n",
    "dataBridges = pd.read_csv('https://data.wprdc.org/datastore/dump/23f675e5-f745-49c1-8fa0-c5bc35c25184')\n",
    "\n",
    "# make dictionary\n",
    "dataBridges_dict = dict()"
   ]
  },
  {
   "cell_type": "markdown",
   "metadata": {},
   "source": [
    "Next lets go through the dataframe for bridges and make a new item whenever it is a new neighborhood, and if the neighborhood is already in the dictionary (AKA a repeat neighborhood), we will just add one to the total of the item. This takes something that looks like this:\n",
    "\n",
    "* East Hills 1\n",
    "* Central Oakland 1\n",
    "* Homewood South 1\n",
    "* Central Oakland 1\n",
    "* Troy Hill 1\n",
    "* Central Oakland 1\n",
    "\n",
    "and turns it into\n",
    "\n",
    "* East Hills 1\n",
    "* Homewood South 1\n",
    "* Troy Hill 1\n",
    "* Central Oakland 3\n",
    "\n",
    "The data is now easier to understand and chart."
   ]
  },
  {
   "cell_type": "code",
   "execution_count": 62,
   "metadata": {},
   "outputs": [],
   "source": [
    "# iterate through the dataframe\n",
    "for i in range(len(dataBridges)):\n",
    "    # get the item name and quantity\n",
    "    item = dataBridges.loc[i, 'start_neighborhood']\n",
    "    \n",
    "    if item in dataBridges_dict: # if it's in the dict\n",
    "        dataBridges_dict[item] += 1 # add the quantity to it\n",
    "    else:\n",
    "        dataBridges_dict[item] = 1 # otherwise, set it to the quantity"
   ]
  },
  {
   "cell_type": "markdown",
   "metadata": {},
   "source": [
    "Then we will convert the dictionary back into a series."
   ]
  },
  {
   "cell_type": "code",
   "execution_count": 63,
   "metadata": {},
   "outputs": [],
   "source": [
    "dataBridges_series = pd.Series(dataBridges_dict, name = \"Bridges\")"
   ]
  },
  {
   "cell_type": "code",
   "execution_count": 148,
   "metadata": {
    "collapsed": true,
    "jupyter": {
     "outputs_hidden": true
    }
   },
   "outputs": [
    {
     "data": {
      "text/plain": [
       "Lower Lawrenceville           1\n",
       "Manchester                    1\n",
       "Northview Heights             1\n",
       "Summer Hill                   1\n",
       "Allentown                     1\n",
       "Banksville                    1\n",
       "Beechview                     1\n",
       "Point Breeze North            1\n",
       "Swisshelm Park                1\n",
       "East Liberty                  1\n",
       "Central Northside             1\n",
       "Allegheny West                1\n",
       "Fineview                      1\n",
       "Regent Square                 1\n",
       "Squirrel Hill North           1\n",
       "North Oakland                 1\n",
       "Spring Hill-City View         1\n",
       "Esplen                        1\n",
       "Strip District                1\n",
       "Perry South                   1\n",
       "Bluff                         2\n",
       "Lincoln-Lemington-Belmar      2\n",
       "Windgap                       2\n",
       "Elliott                       2\n",
       "Sheraden                      2\n",
       "Brighton Heights              2\n",
       "Highland Park                 2\n",
       "South Shore                   2\n",
       "Arlington                     2\n",
       "Marshall-Shadeland            2\n",
       "Brookline                     2\n",
       "Mount Washington              2\n",
       "South Side Slopes             3\n",
       "Bon Air                       3\n",
       "Greenfield                    3\n",
       "Larimer                       3\n",
       "Polish Hill                   3\n",
       "Bloomfield                    3\n",
       "Allegheny Center              4\n",
       "South Oakland                 4\n",
       "East Allegheny                4\n",
       "West End                      4\n",
       "Overbrook                     4\n",
       "Oakwood                       5\n",
       "Hazelwood                     5\n",
       "Hays                          5\n",
       "Shadyside                     7\n",
       "Central Business District     7\n",
       "Troy Hill                     8\n",
       "South Side Flats              8\n",
       "Squirrel Hill South          16\n",
       "Name: Bridges, dtype: int64"
      ]
     },
     "execution_count": 148,
     "metadata": {},
     "output_type": "execute_result"
    }
   ],
   "source": [
    "dataBridges_series.sort_values()[:]"
   ]
  },
  {
   "cell_type": "code",
   "execution_count": 149,
   "metadata": {
    "collapsed": true,
    "jupyter": {
     "outputs_hidden": true
    }
   },
   "outputs": [
    {
     "data": {
      "text/plain": [
       "Squirrel Hill South          16\n",
       "South Side Flats              8\n",
       "Troy Hill                     8\n",
       "Central Business District     7\n",
       "Shadyside                     7\n",
       "Hays                          5\n",
       "Hazelwood                     5\n",
       "Oakwood                       5\n",
       "Overbrook                     4\n",
       "West End                      4\n",
       "Name: Bridges, dtype: int64"
      ]
     },
     "execution_count": 149,
     "metadata": {},
     "output_type": "execute_result"
    }
   ],
   "source": [
    "dataBridges_series.sort_values(ascending=False)[:10]"
   ]
  },
  {
   "cell_type": "code",
   "execution_count": 64,
   "metadata": {},
   "outputs": [
    {
     "data": {
      "text/plain": [
       "Text(0, 0.5, 'Total amount of bridges')"
      ]
     },
     "execution_count": 64,
     "metadata": {},
     "output_type": "execute_result"
    },
    {
     "data": {
      "image/png": "[encoded data removed]",
      "text/plain": [
       "<Figure size 432x288 with 1 Axes>"
      ]
     },
     "metadata": {
      "needs_background": "light"
     },
     "output_type": "display_data"
    }
   ],
   "source": [
    "dataBridges_series.sort_values(ascending=False)[:10].plot.bar()\n",
    "plt.title('Bridges per Neighborhood')\n",
    "plt.xlabel('Neighborhoods')\n",
    "plt.ylabel('Total amount of bridges')"
   ]
  },
  {
   "cell_type": "markdown",
   "metadata": {},
   "source": [
    "## Grabbing relevant data into weighted dictionary.\n",
    "### I go through each neighborhood in the top 10, and assign it to the dictionary."
   ]
  },
  {
   "cell_type": "code",
   "execution_count": 127,
   "metadata": {},
   "outputs": [
    {
     "name": "stdout",
     "output_type": "stream",
     "text": [
      "Squirrel Hill South: 16\n",
      "South Side Flats: 8\n",
      "Troy Hill: 8\n",
      "Central Business District: 7\n",
      "Shadyside: 7\n",
      "Hays: 5\n",
      "Hazelwood: 5\n",
      "Oakwood: 5\n",
      "Overbrook: 4\n",
      "West End: 4\n"
     ]
    }
   ],
   "source": [
    "# getting weights for metrics\n",
    "dataBridges_series_weight_dict = {}\n",
    "#counter = 10 -- Removed. Only needed for testing.\n",
    "\n",
    "for neighborhood, bridges in zip(dataBridges_series.sort_values(ascending=False).index[:10], dataBridges_series.sort_values(ascending=False)[:10]):\n",
    "    print(str(neighborhood) + \": \" + str(bridges))\n",
    "    dataBridges_series_weight_dict[neighborhood] = bridges\n",
    "    #counter -= 1 -- Removed. Only needed for testing.\n"
   ]
  },
  {
   "cell_type": "markdown",
   "metadata": {},
   "source": [
    "# Combining pre-weighted items into one dictionary for final metric.\n",
    "### This is the heavy part of the code, where I decided using a function was best.\n",
    "### The function will take a dictionary that needs parsed, and a final dictionary to add the first dictionary to.\n",
    "### The function will then return the filled \"final_dict\" for further processing."
   ]
  },
  {
   "cell_type": "code",
   "execution_count": 121,
   "metadata": {},
   "outputs": [
    {
     "name": "stdout",
     "output_type": "stream",
     "text": [
      "{'Central Northside': 0.9583333333333334, 'Windgap': 5.458333333333333, 'Squirrel Hill South': 33.281666666666666, 'East Liberty': 13.208333333333334, 'Lower Lawrenceville': 13.916666666666666, 'Elliott': 14.083333333333334, 'Central Oakland': 15.916666666666666, 'Manchester': 16.0, 'Highland Park': 19.666666666666668, 'Carrick': 6.56, 'North Shore': 6.81, 'Marshall-Shadeland': 7.06, 'East Allegheny': 7.59, 'South Oakland': 8.07, 'Squirrel Hill North': 8.19, 'Bluff': 9.08, 'Brookline': 9.15, 'Central Business District': 20.55, 'Overbrook': 4, 'West End': 4, 'Hays': 5, 'Hazelwood': 5, 'Oakwood': 5, 'Shadyside': 7, 'South Side Flats': 8, 'Troy Hill': 8}\n"
     ]
    }
   ],
   "source": [
    "#performing arithmetic to show final graph\n",
    "final_weighted_dictionary = {}\n",
    "\n",
    "# Function to add lists to final dictionary.\n",
    "def add_to_final_dict(dict_to_add, final_dict):\n",
    "    for neighborhood, value in dict_to_add:\n",
    "        if neighborhood in final_dict:\n",
    "            final_dict[neighborhood] += value\n",
    "            #print(neighborhood + \" found in final dict. Adding \" + str(value) + \" to final dict value.\") -- Removed. Only needed for testing.\n",
    "        else:\n",
    "            final_dict[neighborhood] = value\n",
    "    return final_dict\n",
    "\n",
    "\n",
    "# Sorting dictionaries based on values, then assigning to a new variable for easier access.\n",
    "traffic = sorted(traffic_count_weight_dict.items(), key=lambda item: item[1])\n",
    "#print(traffic_count_weight_dict.keys()) -- Removed. Only needed for testing.\n",
    "\n",
    "roads = sorted(major_roads_weight_dict.items(), key=lambda item: item[1])\n",
    "#print(major_roads_weight_dict.keys()) -- Removed. Only needed for testing.\n",
    "\n",
    "bridges = sorted(dataBridges_series_weight_dict.items(), key=lambda item: item[1])\n",
    "#print(dataBridges_series_weight_dict.keys()) -- Removed. Only needed for testing.\n",
    "\n",
    "\n",
    "\n",
    "# Placing traffic list into final dictionary\n",
    "final_weighted_dictionary = add_to_final_dict(traffic, final_weighted_dictionary)\n",
    "#print(\"First dict done.\") -- Removed. Only needed for testing.\n",
    "\n",
    "# Placing roads list into final dictionary\n",
    "final_weighted_dictionary = add_to_final_dict(roads, final_weighted_dictionary)\n",
    "#print(\"Second dict done.\") -- Removed. Only needed for testing.\n",
    "\n",
    "# Placing roads list into final dictionary\n",
    "final_weighted_dictionary = add_to_final_dict(bridges, final_weighted_dictionary)\n",
    "#print(\"Third dict done.\") -- Removed. Only needed for testing.\n",
    "\n",
    "print(final_weighted_dictionary)"
   ]
  },
  {
   "cell_type": "markdown",
   "metadata": {},
   "source": [
    "# Making a pretty graph for final metric"
   ]
  },
  {
   "cell_type": "code",
   "execution_count": 125,
   "metadata": {},
   "outputs": [
    {
     "name": "stdout",
     "output_type": "stream",
     "text": [
      "Squirrel Hill South          33.281667\n",
      "Central Business District    20.550000\n",
      "Highland Park                19.666667\n",
      "Manchester                   16.000000\n",
      "Central Oakland              15.916667\n",
      "Elliott                      14.083333\n",
      "Lower Lawrenceville          13.916667\n",
      "East Liberty                 13.208333\n",
      "Brookline                     9.150000\n",
      "Bluff                         9.080000\n",
      "dtype: float64\n"
     ]
    },
    {
     "data": {
      "image/png": "[encoded data removed]",
      "text/plain": [
       "<Figure size 432x288 with 1 Axes>"
      ]
     },
     "metadata": {
      "needs_background": "light"
     },
     "output_type": "display_data"
    }
   ],
   "source": [
    "\n",
    "#converting back to series\n",
    "final_metrics = pd.Series(final_weighted_dictionary)\n",
    "\n",
    "#top 10 from series\n",
    "final_metrics.sort_values(ascending=False)[:10]\n",
    "print(final_metrics.sort_values(ascending=False)[:10])\n",
    "\n",
    "#worst\n",
    "#dataBridges_series.sort_values(ascending=True)[:20]\n",
    "\n",
    "plt.bar(final_metrics.index[:10], final_metrics.sort_values(ascending=False)[:10])\n",
    "plt.xlabel('Neighborhoods')\n",
    "plt.ylabel('Rating')\n",
    "plt.title('Best Neighborhood Weighed By All Metrics')\n",
    "plt.xticks(rotation=75)\n",
    "\n",
    "plt.show()"
   ]
  },
  {
   "cell_type": "markdown",
   "metadata": {},
   "source": [
    "# Conclusions"
   ]
  },
  {
   "cell_type": "markdown",
   "metadata": {},
   "source": [
    "Personally, I have a hard time picking a favorite neighborhood. If I had to choose within the city limits, I think Crafton/Ingram would be my top picks. They're more familiar to me, as the buildings there remind me of my hometown. Obviously compared to the final metric, my picks are nowhere near the \"best\""
   ]
  },
  {
   "cell_type": "code",
   "execution_count": null,
   "metadata": {},
   "outputs": [],
   "source": []
  }
 ],
 "metadata": {
  "kernelspec": {
   "display_name": "Python 3",
   "language": "python",
   "name": "python3"
  },
  "language_info": {
   "codemirror_mode": {
    "name": "ipython",
    "version": 3
   },
   "file_extension": ".py",
   "mimetype": "text/x-python",
   "name": "python",
   "nbconvert_exporter": "python",
   "pygments_lexer": "ipython3",
   "version": "3.6.7"
  }
 },
 "nbformat": 4,
 "nbformat_minor": 4
}
