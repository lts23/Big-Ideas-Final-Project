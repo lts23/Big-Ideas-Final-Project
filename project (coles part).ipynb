{
 "cells": [
  {
   "cell_type": "markdown",
   "metadata": {},
   "source": [
    "First, lets import the pandas and the pyplot for matplotlib. Then, the data set. It is a csv so we can just use pd.read_csv to read it in.Then, we will then make a dictionary for the data set. This will help us later as we go to read in the data. "
   ]
  },
  {
   "cell_type": "code",
   "execution_count": 2,
   "metadata": {},
   "outputs": [],
   "source": [
    "import pandas as pd\n",
    "from matplotlib import pyplot as plt\n",
    "\n",
    "dataBridges = pd.read_csv('https://data.wprdc.org/datastore/dump/23f675e5-f745-49c1-8fa0-c5bc35c25184')\n",
    "\n",
    "# make dictionary\n",
    "dataBridges_dict = dict()"
   ]
  },
  {
   "cell_type": "markdown",
   "metadata": {},
   "source": [
    "Next lets go through the dataframe for bridges and make a new item whenever it is a new neighborhood, and if the neighborhood is already in the dictionary (AKA a repeat neighborhood), we will just add one to the total of the item. This takes something that looks like this:\n",
    "\n",
    "* East Hills 1\n",
    "* Central Oakland 1\n",
    "* Homewood South 1\n",
    "* Central Oakland 1\n",
    "* Troy Hill 1\n",
    "* Central Oakland 1\n",
    "\n",
    "and turns it into\n",
    "\n",
    "* East Hills 1\n",
    "* Homewood South 1\n",
    "* Troy Hill 1\n",
    "* Central Oakland 3\n",
    "\n",
    "The data is now easier to understand and chart."
   ]
  },
  {
   "cell_type": "code",
   "execution_count": 13,
   "metadata": {},
   "outputs": [],
   "source": [
    "# iterate through the dataframe\n",
    "for i in range(len(dataBridges)):\n",
    "    # get the item name and quantity\n",
    "    item = dataBridges.loc[i, 'start_neighborhood']\n",
    "    \n",
    "    if item in dataBridges_dict: # if it's in the dict\n",
    "        dataBridges_dict[item] += 1 # add the quantity to it\n",
    "    else:\n",
    "        dataBridges_dict[item] = 1 # otherwise, set it to the quantity"
   ]
  },
  {
   "cell_type": "markdown",
   "metadata": {},
   "source": [
    "Then we will convert the dictionary back into a series."
   ]
  },
  {
   "cell_type": "code",
   "execution_count": 14,
   "metadata": {},
   "outputs": [],
   "source": [
    "dataBridges_series = pd.Series(dataBridges_dict, name = \"Bridges\")"
   ]
  },
  {
   "cell_type": "markdown",
   "metadata": {},
   "source": [
    "And display the values sorted for least to greatest."
   ]
  },
  {
   "cell_type": "code",
   "execution_count": 15,
   "metadata": {},
   "outputs": [
    {
     "data": {
      "text/plain": [
       "Lower Lawrenceville           2\n",
       "Manchester                    2\n",
       "Northview Heights             2\n",
       "Summer Hill                   2\n",
       "Allentown                     2\n",
       "Banksville                    2\n",
       "Beechview                     2\n",
       "Point Breeze North            2\n",
       "Swisshelm Park                2\n",
       "East Liberty                  2\n",
       "Central Northside             2\n",
       "Allegheny West                2\n",
       "Fineview                      2\n",
       "Regent Square                 2\n",
       "Squirrel Hill North           2\n",
       "North Oakland                 2\n",
       "Spring Hill-City View         2\n",
       "Esplen                        2\n",
       "Strip District                2\n",
       "Perry South                   2\n",
       "Bluff                         4\n",
       "Lincoln-Lemington-Belmar      4\n",
       "Windgap                       4\n",
       "Elliott                       4\n",
       "Sheraden                      4\n",
       "Brighton Heights              4\n",
       "Highland Park                 4\n",
       "South Shore                   4\n",
       "Arlington                     4\n",
       "Marshall-Shadeland            4\n",
       "Brookline                     4\n",
       "Mount Washington              4\n",
       "South Side Slopes             6\n",
       "Bon Air                       6\n",
       "Greenfield                    6\n",
       "Larimer                       6\n",
       "Polish Hill                   6\n",
       "Bloomfield                    6\n",
       "Allegheny Center              8\n",
       "South Oakland                 8\n",
       "East Allegheny                8\n",
       "West End                      8\n",
       "Overbrook                     8\n",
       "Oakwood                      10\n",
       "Hazelwood                    10\n",
       "Hays                         10\n",
       "Shadyside                    14\n",
       "Central Business District    14\n",
       "Troy Hill                    16\n",
       "South Side Flats             16\n",
       "Squirrel Hill South          32\n",
       "Name: Bridges, dtype: int64"
      ]
     },
     "execution_count": 15,
     "metadata": {},
     "output_type": "execute_result"
    }
   ],
   "source": [
    "dataBridges_series.sort_values()[:]"
   ]
  },
  {
   "cell_type": "code",
   "execution_count": 16,
   "metadata": {},
   "outputs": [
    {
     "data": {
      "text/plain": [
       "Squirrel Hill South          32\n",
       "South Side Flats             16\n",
       "Troy Hill                    16\n",
       "Central Business District    14\n",
       "Shadyside                    14\n",
       "Hays                         10\n",
       "Hazelwood                    10\n",
       "Oakwood                      10\n",
       "Overbrook                     8\n",
       "West End                      8\n",
       "Name: Bridges, dtype: int64"
      ]
     },
     "execution_count": 16,
     "metadata": {},
     "output_type": "execute_result"
    }
   ],
   "source": [
    "dataBridges_series.sort_values(ascending=False)[:10]"
   ]
  },
  {
   "cell_type": "markdown",
   "metadata": {},
   "source": [
    "got the data, now i need a graph!"
   ]
  },
  {
   "cell_type": "code",
   "execution_count": 20,
   "metadata": {},
   "outputs": [
    {
     "data": {
      "text/plain": [
       "Text(0, 0.5, 'Total amount of bridges')"
      ]
     },
     "execution_count": 20,
     "metadata": {},
     "output_type": "execute_result"
    },
    {
     "data": {
      "image/png": "[encoded data removed]",
      "text/plain": [
       "<Figure size 432x288 with 1 Axes>"
      ]
     },
     "metadata": {
      "needs_background": "light"
     },
     "output_type": "display_data"
    }
   ],
   "source": [
    "dataBridges_series.sort_values(ascending=False)[:10].plot.bar()\n",
    "plt.title('Bridges per Neighborhood')\n",
    "plt.xlabel('Neighborhoods')\n",
    "plt.ylabel('Total amount of bridges')"
   ]
  }
 ],
 "metadata": {
  "kernelspec": {
   "display_name": "Python 3",
   "language": "python",
   "name": "python3"
  },
  "language_info": {
   "codemirror_mode": {
    "name": "ipython",
    "version": 3
   },
   "file_extension": ".py",
   "mimetype": "text/x-python",
   "name": "python",
   "nbconvert_exporter": "python",
   "pygments_lexer": "ipython3",
   "version": "3.6.7"
  }
 },
 "nbformat": 4,
 "nbformat_minor": 4
}
